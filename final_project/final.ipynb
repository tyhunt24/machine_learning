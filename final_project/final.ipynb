{
 "cells": [
  {
   "cell_type": "markdown",
   "metadata": {},
   "source": [
    "## Final Project: Decision Tree Algorithm\n",
    "- Name: Jeffrey Hunt\n",
    "- Project Name: Final Project Implementing Decision Trees\n",
    "- Date: 11-27-22"
   ]
  },
  {
   "cell_type": "markdown",
   "metadata": {},
   "source": [
    "## Problem Statement\n",
    "Using the Decision Tree Algorithm and the car evaluation dataset from the UCI machine learning repository, are we able to predict the safety of future cars? We will also perform another Machine Learning algorithm on this data which is the KNN (K-Nearest Neighbor)algorithm. We can use the KNN algorithm to split different cars safety into different Categories. This is an important question to ask because we want to make sure that we producing the safest cars out onto the road. This may be a simple implementation of the algorithm and it is uses but it can be used as a very powerful tool in machine learning. "
   ]
  },
  {
   "cell_type": "markdown",
   "metadata": {},
   "source": [
    "## Decision Tree Algorithm\n",
    "The Decision Tree Algorithm is one of the most commonly used algorithms in machine learning. The decision tree covers both classification and regression. In decision analysis, it can be used to visually represent decisions and decisions making. It is widely used in machine learning to derive a strategy to reach a particular goal. To consider how it looks like a tree we can take a basic example. Lets say we have data for whether a passenger would have survived the titanic or not. We can use a decision tree of different statements like if they were male or female, if the male was above or under the age of 10. All of these different decisions will lead us to determine if the person will survive the titanic or not."
   ]
  },
  {
   "cell_type": "markdown",
   "metadata": {},
   "source": [
    "## K Nearest Neighbors\n",
    "The KNN algorithm is another algorithm that is very commonly used in machine learning. The KNN algorithm is a supervised machine learning algorithm that relies on labeled input data to learn a function that gives us an appropiate output when given new unlabed data. An example of this algorithm is that we want a child to learn what a pig looks like. So what we will do is we show the kid several different pictures some are pigs and others are of other things. When we show a pig we shout pig and when it is not a pig we shout no pig and after a while when we ask the kid if it is a pig or not they will able to figure it out. We can use this algorithm in our dataset to categorize different cars and there safety.  "
   ]
  },
  {
   "cell_type": "markdown",
   "metadata": {},
   "source": [
    "## Algorthmic Foundations\n",
    "1. Import the Data\n",
    "2. PreProcess the Data (Exploratory Data Analysis, rename columns, check for NA values, etc)\n",
    "3. Split the Data into Training and Testing sets\n",
    "4. Encode the Data \n",
    "5. Build the Model using the Decision Tree Library\n",
    "6. Train the Model \n",
    "7. Predict the Model\n",
    "8. Visualize the Decision Tree\n",
    "9. Conclusion (confusion Matrix, accuracy, Plots)\n",
    "10. Repeat the Same steps again but use the KNN Algorithm this time to complete the data."
   ]
  },
  {
   "cell_type": "markdown",
   "metadata": {},
   "source": [
    "### Load Libraries"
   ]
  },
  {
   "cell_type": "code",
   "execution_count": 35,
   "metadata": {},
   "outputs": [],
   "source": [
    "## Load the different libraries that we need\n",
    "## Make sure to PIP install all necessary Packages\n",
    "import numpy as np\n",
    "import pandas as pd \n",
    "import matplotlib.pyplot as plt\n",
    "import seaborn as sns\n",
    "import category_encoders as ce\n",
    "from sklearn.model_selection import train_test_split\n",
    "from sklearn.tree import DecisionTreeClassifier\n",
    "from sklearn.metrics import accuracy_score\n",
    "import graphviz \n",
    "from sklearn import tree\n",
    "from sklearn.neighbors import KNeighborsClassifier\n",
    "import math\n",
    "\n",
    "%matplotlib inline"
   ]
  },
  {
   "cell_type": "markdown",
   "metadata": {},
   "source": [
    "### Data Exploration\n",
    "- The dataset contains 3 concepts and 7 categories.\n",
    "- The 3 concepts contain: Price, Tech, and Comfort.\n",
    "- Price Categories:\n",
    "    - Price: overall Price\n",
    "    - Maint: Price of matience for the car\n",
    "- Tech:\n",
    "    - Techincal Charactersitics\n",
    "- Comfort:\n",
    "    - doors: Number of doors\n",
    "    - Capcity: Number of persons who can sit in the car\n",
    "    - lug_boot: Size of the luggage boot\n",
    "    - safety: Estimated safety of the car. \n",
    "- All 7 variables in the dataset are categorical.\n"
   ]
  },
  {
   "cell_type": "code",
   "execution_count": 20,
   "metadata": {},
   "outputs": [
    {
     "data": {
      "text/html": [
       "<div>\n",
       "<style scoped>\n",
       "    .dataframe tbody tr th:only-of-type {\n",
       "        vertical-align: middle;\n",
       "    }\n",
       "\n",
       "    .dataframe tbody tr th {\n",
       "        vertical-align: top;\n",
       "    }\n",
       "\n",
       "    .dataframe thead th {\n",
       "        text-align: right;\n",
       "    }\n",
       "</style>\n",
       "<table border=\"1\" class=\"dataframe\">\n",
       "  <thead>\n",
       "    <tr style=\"text-align: right;\">\n",
       "      <th></th>\n",
       "      <th>buying</th>\n",
       "      <th>maint</th>\n",
       "      <th>doors</th>\n",
       "      <th>persons</th>\n",
       "      <th>lug_boot</th>\n",
       "      <th>safety</th>\n",
       "      <th>class</th>\n",
       "    </tr>\n",
       "  </thead>\n",
       "  <tbody>\n",
       "    <tr>\n",
       "      <th>0</th>\n",
       "      <td>vhigh</td>\n",
       "      <td>vhigh</td>\n",
       "      <td>2</td>\n",
       "      <td>2</td>\n",
       "      <td>small</td>\n",
       "      <td>low</td>\n",
       "      <td>unacc</td>\n",
       "    </tr>\n",
       "    <tr>\n",
       "      <th>1</th>\n",
       "      <td>vhigh</td>\n",
       "      <td>vhigh</td>\n",
       "      <td>2</td>\n",
       "      <td>2</td>\n",
       "      <td>small</td>\n",
       "      <td>med</td>\n",
       "      <td>unacc</td>\n",
       "    </tr>\n",
       "    <tr>\n",
       "      <th>2</th>\n",
       "      <td>vhigh</td>\n",
       "      <td>vhigh</td>\n",
       "      <td>2</td>\n",
       "      <td>2</td>\n",
       "      <td>small</td>\n",
       "      <td>high</td>\n",
       "      <td>unacc</td>\n",
       "    </tr>\n",
       "    <tr>\n",
       "      <th>3</th>\n",
       "      <td>vhigh</td>\n",
       "      <td>vhigh</td>\n",
       "      <td>2</td>\n",
       "      <td>2</td>\n",
       "      <td>med</td>\n",
       "      <td>low</td>\n",
       "      <td>unacc</td>\n",
       "    </tr>\n",
       "    <tr>\n",
       "      <th>4</th>\n",
       "      <td>vhigh</td>\n",
       "      <td>vhigh</td>\n",
       "      <td>2</td>\n",
       "      <td>2</td>\n",
       "      <td>med</td>\n",
       "      <td>med</td>\n",
       "      <td>unacc</td>\n",
       "    </tr>\n",
       "  </tbody>\n",
       "</table>\n",
       "</div>"
      ],
      "text/plain": [
       "  buying  maint doors persons lug_boot safety  class\n",
       "0  vhigh  vhigh     2       2    small    low  unacc\n",
       "1  vhigh  vhigh     2       2    small    med  unacc\n",
       "2  vhigh  vhigh     2       2    small   high  unacc\n",
       "3  vhigh  vhigh     2       2      med    low  unacc\n",
       "4  vhigh  vhigh     2       2      med    med  unacc"
      ]
     },
     "execution_count": 20,
     "metadata": {},
     "output_type": "execute_result"
    }
   ],
   "source": [
    "# Load in the data\n",
    "data_df = pd.read_csv(\"car_evaluation.csv\", header=None)\n",
    "\n",
    "#data_df.head()\n",
    "\n",
    "# The columns do not have names so we need to rename the columns\n",
    "col_names = ['buying', 'maint', 'doors', 'persons', 'lug_boot', 'safety', 'class']\n",
    "\n",
    "data_df.columns = col_names\n",
    "\n",
    "#Exploratory Data Analysis\n",
    "data_df.head()\n"
   ]
  },
  {
   "cell_type": "markdown",
   "metadata": {},
   "source": [
    "### Preprocess the Data\n",
    "- We need to encode our data because all of the data is categorical. This means that we need to change the data to show numerical values.\n",
    "- Normalized: The goal of normalization is we want to chagne the values of a numeric columns in dataset so that we are able to use a common scale. \n",
    "- Standardized: The goal of standardization is rescale so that the fit of the distribution fits between 0 and 1 using mean and standard deviation as the base point to find specific values.\n",
    "\n",
    "For the purposes of this assignment the data just needs to be encoded, normally when we encode data we also have to normalize it but for this data set we have all of the same number of elements and there are no big outliers.\n",
    "\n",
    "The Dataset does not contain any NA values so we do not have to worry about cleaning the data."
   ]
  },
  {
   "cell_type": "code",
   "execution_count": 24,
   "metadata": {},
   "outputs": [
    {
     "data": {
      "text/html": [
       "<div>\n",
       "<style scoped>\n",
       "    .dataframe tbody tr th:only-of-type {\n",
       "        vertical-align: middle;\n",
       "    }\n",
       "\n",
       "    .dataframe tbody tr th {\n",
       "        vertical-align: top;\n",
       "    }\n",
       "\n",
       "    .dataframe thead th {\n",
       "        text-align: right;\n",
       "    }\n",
       "</style>\n",
       "<table border=\"1\" class=\"dataframe\">\n",
       "  <thead>\n",
       "    <tr style=\"text-align: right;\">\n",
       "      <th></th>\n",
       "      <th>buying</th>\n",
       "      <th>maint</th>\n",
       "      <th>doors</th>\n",
       "      <th>persons</th>\n",
       "      <th>lug_boot</th>\n",
       "      <th>safety</th>\n",
       "      <th>class</th>\n",
       "    </tr>\n",
       "  </thead>\n",
       "  <tbody>\n",
       "    <tr>\n",
       "      <th>1723</th>\n",
       "      <td>4</td>\n",
       "      <td>4</td>\n",
       "      <td>4</td>\n",
       "      <td>3</td>\n",
       "      <td>2</td>\n",
       "      <td>2</td>\n",
       "      <td>4</td>\n",
       "    </tr>\n",
       "    <tr>\n",
       "      <th>1724</th>\n",
       "      <td>4</td>\n",
       "      <td>4</td>\n",
       "      <td>4</td>\n",
       "      <td>3</td>\n",
       "      <td>2</td>\n",
       "      <td>3</td>\n",
       "      <td>3</td>\n",
       "    </tr>\n",
       "    <tr>\n",
       "      <th>1725</th>\n",
       "      <td>4</td>\n",
       "      <td>4</td>\n",
       "      <td>4</td>\n",
       "      <td>3</td>\n",
       "      <td>3</td>\n",
       "      <td>1</td>\n",
       "      <td>1</td>\n",
       "    </tr>\n",
       "    <tr>\n",
       "      <th>1726</th>\n",
       "      <td>4</td>\n",
       "      <td>4</td>\n",
       "      <td>4</td>\n",
       "      <td>3</td>\n",
       "      <td>3</td>\n",
       "      <td>2</td>\n",
       "      <td>4</td>\n",
       "    </tr>\n",
       "    <tr>\n",
       "      <th>1727</th>\n",
       "      <td>4</td>\n",
       "      <td>4</td>\n",
       "      <td>4</td>\n",
       "      <td>3</td>\n",
       "      <td>3</td>\n",
       "      <td>3</td>\n",
       "      <td>3</td>\n",
       "    </tr>\n",
       "  </tbody>\n",
       "</table>\n",
       "</div>"
      ],
      "text/plain": [
       "      buying  maint  doors  persons  lug_boot  safety  class\n",
       "1723       4      4      4        3         2       2      4\n",
       "1724       4      4      4        3         2       3      3\n",
       "1725       4      4      4        3         3       1      1\n",
       "1726       4      4      4        3         3       2      4\n",
       "1727       4      4      4        3         3       3      3"
      ]
     },
     "execution_count": 24,
     "metadata": {},
     "output_type": "execute_result"
    }
   ],
   "source": [
    "## encode the Data\n",
    "encoder = ce.OrdinalEncoder(cols=['buying', 'maint', 'doors', 'persons', 'lug_boot', 'safety', 'class'])\n",
    "\n",
    "data_df = encoder.fit_transform(data_df)\n",
    "\n",
    "data_df.tail()"
   ]
  },
  {
   "cell_type": "code",
   "execution_count": 25,
   "metadata": {},
   "outputs": [
    {
     "data": {
      "text/plain": [
       "buying      0\n",
       "maint       0\n",
       "doors       0\n",
       "persons     0\n",
       "lug_boot    0\n",
       "safety      0\n",
       "class       0\n",
       "dtype: int64"
      ]
     },
     "execution_count": 25,
     "metadata": {},
     "output_type": "execute_result"
    }
   ],
   "source": [
    "## Check to see if the Data set contains any NA values.\n",
    "data_df.isnull().sum()\n",
    "\n",
    "#There is no Missing values in the dataset so we can continue."
   ]
  },
  {
   "cell_type": "markdown",
   "metadata": {},
   "source": [
    "### Split the Dataset into training and testing sets\n",
    "    - We need to split our dataset into training and testing sets so we are able to predict the safety of each car.\n",
    "    - The first thing that we need to do is split the data into Dependent and Independent Variables.\n",
    "    - Our Independent Variable is the Class variable and the Dependent Variables are all other Variables in the Dataset."
   ]
  },
  {
   "cell_type": "code",
   "execution_count": 26,
   "metadata": {},
   "outputs": [
    {
     "data": {
      "text/plain": [
       "48      1\n",
       "468     1\n",
       "155     1\n",
       "1721    4\n",
       "1208    1\n",
       "Name: class, dtype: int32"
      ]
     },
     "execution_count": 26,
     "metadata": {},
     "output_type": "execute_result"
    }
   ],
   "source": [
    "# Split are code into both training and testing sets\n",
    "# X set is Dependenent - We drop the Class Dataset and keep everything else\n",
    "# Y set is Independent - This is the Class dataset\n",
    "\n",
    "X = data_df.drop(['class'], axis = 1)\n",
    "\n",
    "Y = data_df['class']\n",
    "\n",
    "X.head()\n",
    "\n",
    "X_train, X_test, Y_train, Y_test = train_test_split(X, Y, test_size=0.33, random_state=42)\n",
    "\n",
    "Y_train.head()\n"
   ]
  },
  {
   "cell_type": "markdown",
   "metadata": {},
   "source": [
    "## Implement the Decision Tree Model\n",
    "Lets talk about the intution and variables before we begin implementing the decision Tree. The basic intution of the Decision tree is as follows:\n",
    "\n",
    "1. For every attribnute in the decision tree the algorithm forms a node. The most significant attribute is formed as the root node.\n",
    "\n",
    "2. We then work our way down the tree following the nodes that meets the condition (decision) that we have set for it meet.\n",
    "\n",
    "3. We continue this process until we reach a leaf node, which contains the outcome of the decision tree.\n",
    "\n",
    "How does the Algorithm Work?\n",
    "\n",
    "- In the decision Tree algorithm we have to use something called Attribute Selections.What we are doing in attribute selection is we try decide what should be the root node at each level. We will use the two most common methods for decidng this when running our alogirthm, Entropy and Gini Index.\n",
    "\n",
    "- Entropy: or also known as impurity in a given dataset. Information gain is the decrease in entropy. What information gain does is computes the difference between entropy entropy before split and after split of the dataset. Then the attribute with the highest information gain is chosen as the spltting attribute at the Node.\n",
    "\n",
    "-Gini Index: Gini Index is the other attribute selection method that the Decision Tree uses. The gini index says that we if randomly select two items from a population they must have the same class. IT works best with categorical variables and performs only on binary splits. The attribute with the minimum Gini index is chosen as the splitting attribute. \n",
    " "
   ]
  },
  {
   "cell_type": "code",
   "execution_count": 27,
   "metadata": {},
   "outputs": [
    {
     "data": {
      "text/html": [
       "<style>#sk-container-id-2 {color: black;background-color: white;}#sk-container-id-2 pre{padding: 0;}#sk-container-id-2 div.sk-toggleable {background-color: white;}#sk-container-id-2 label.sk-toggleable__label {cursor: pointer;display: block;width: 100%;margin-bottom: 0;padding: 0.3em;box-sizing: border-box;text-align: center;}#sk-container-id-2 label.sk-toggleable__label-arrow:before {content: \"▸\";float: left;margin-right: 0.25em;color: #696969;}#sk-container-id-2 label.sk-toggleable__label-arrow:hover:before {color: black;}#sk-container-id-2 div.sk-estimator:hover label.sk-toggleable__label-arrow:before {color: black;}#sk-container-id-2 div.sk-toggleable__content {max-height: 0;max-width: 0;overflow: hidden;text-align: left;background-color: #f0f8ff;}#sk-container-id-2 div.sk-toggleable__content pre {margin: 0.2em;color: black;border-radius: 0.25em;background-color: #f0f8ff;}#sk-container-id-2 input.sk-toggleable__control:checked~div.sk-toggleable__content {max-height: 200px;max-width: 100%;overflow: auto;}#sk-container-id-2 input.sk-toggleable__control:checked~label.sk-toggleable__label-arrow:before {content: \"▾\";}#sk-container-id-2 div.sk-estimator input.sk-toggleable__control:checked~label.sk-toggleable__label {background-color: #d4ebff;}#sk-container-id-2 div.sk-label input.sk-toggleable__control:checked~label.sk-toggleable__label {background-color: #d4ebff;}#sk-container-id-2 input.sk-hidden--visually {border: 0;clip: rect(1px 1px 1px 1px);clip: rect(1px, 1px, 1px, 1px);height: 1px;margin: -1px;overflow: hidden;padding: 0;position: absolute;width: 1px;}#sk-container-id-2 div.sk-estimator {font-family: monospace;background-color: #f0f8ff;border: 1px dotted black;border-radius: 0.25em;box-sizing: border-box;margin-bottom: 0.5em;}#sk-container-id-2 div.sk-estimator:hover {background-color: #d4ebff;}#sk-container-id-2 div.sk-parallel-item::after {content: \"\";width: 100%;border-bottom: 1px solid gray;flex-grow: 1;}#sk-container-id-2 div.sk-label:hover label.sk-toggleable__label {background-color: #d4ebff;}#sk-container-id-2 div.sk-serial::before {content: \"\";position: absolute;border-left: 1px solid gray;box-sizing: border-box;top: 0;bottom: 0;left: 50%;z-index: 0;}#sk-container-id-2 div.sk-serial {display: flex;flex-direction: column;align-items: center;background-color: white;padding-right: 0.2em;padding-left: 0.2em;position: relative;}#sk-container-id-2 div.sk-item {position: relative;z-index: 1;}#sk-container-id-2 div.sk-parallel {display: flex;align-items: stretch;justify-content: center;background-color: white;position: relative;}#sk-container-id-2 div.sk-item::before, #sk-container-id-2 div.sk-parallel-item::before {content: \"\";position: absolute;border-left: 1px solid gray;box-sizing: border-box;top: 0;bottom: 0;left: 50%;z-index: -1;}#sk-container-id-2 div.sk-parallel-item {display: flex;flex-direction: column;z-index: 1;position: relative;background-color: white;}#sk-container-id-2 div.sk-parallel-item:first-child::after {align-self: flex-end;width: 50%;}#sk-container-id-2 div.sk-parallel-item:last-child::after {align-self: flex-start;width: 50%;}#sk-container-id-2 div.sk-parallel-item:only-child::after {width: 0;}#sk-container-id-2 div.sk-dashed-wrapped {border: 1px dashed gray;margin: 0 0.4em 0.5em 0.4em;box-sizing: border-box;padding-bottom: 0.4em;background-color: white;}#sk-container-id-2 div.sk-label label {font-family: monospace;font-weight: bold;display: inline-block;line-height: 1.2em;}#sk-container-id-2 div.sk-label-container {text-align: center;}#sk-container-id-2 div.sk-container {/* jupyter's `normalize.less` sets `[hidden] { display: none; }` but bootstrap.min.css set `[hidden] { display: none !important; }` so we also need the `!important` here to be able to override the default hidden behavior on the sphinx rendered scikit-learn.org. See: https://github.com/scikit-learn/scikit-learn/issues/21755 */display: inline-block !important;position: relative;}#sk-container-id-2 div.sk-text-repr-fallback {display: none;}</style><div id=\"sk-container-id-2\" class=\"sk-top-container\"><div class=\"sk-text-repr-fallback\"><pre>DecisionTreeClassifier(max_depth=3, random_state=0)</pre><b>In a Jupyter environment, please rerun this cell to show the HTML representation or trust the notebook. <br />On GitHub, the HTML representation is unable to render, please try loading this page with nbviewer.org.</b></div><div class=\"sk-container\" hidden><div class=\"sk-item\"><div class=\"sk-estimator sk-toggleable\"><input class=\"sk-toggleable__control sk-hidden--visually\" id=\"sk-estimator-id-2\" type=\"checkbox\" checked><label for=\"sk-estimator-id-2\" class=\"sk-toggleable__label sk-toggleable__label-arrow\">DecisionTreeClassifier</label><div class=\"sk-toggleable__content\"><pre>DecisionTreeClassifier(max_depth=3, random_state=0)</pre></div></div></div></div></div>"
      ],
      "text/plain": [
       "DecisionTreeClassifier(max_depth=3, random_state=0)"
      ]
     },
     "execution_count": 27,
     "metadata": {},
     "output_type": "execute_result"
    }
   ],
   "source": [
    "# Perform the Decision Tree Classifier with the gini index\n",
    "\n",
    "clf_gini = DecisionTreeClassifier(criterion=\"gini\", max_depth=3, random_state=0)\n",
    "\n",
    "#Fit the Model\n",
    "clf_gini.fit(X_train, Y_train)\n"
   ]
  },
  {
   "cell_type": "code",
   "execution_count": 28,
   "metadata": {},
   "outputs": [
    {
     "name": "stdout",
     "output_type": "stream",
     "text": [
      "The Model accuracy of the gini index is 0.8021015761821366\n"
     ]
    }
   ],
   "source": [
    "#Next we can predict the test Results with the gini index\n",
    "y_pred_gini = clf_gini.predict(X_test)\n",
    "\n",
    "# Check what the accuracy of our Gini Index is\n",
    "test_accuracy = accuracy_score(Y_test, y_pred_gini)\n",
    "\n",
    "print(f\"The Model accuracy of the gini index is {test_accuracy}\")\n",
    "\n",
    "#For context of what this means y-test is the true labels and y_pred_gini are the predicted labels"
   ]
  },
  {
   "cell_type": "markdown",
   "metadata": {},
   "source": [
    "### Check for OverFitting and Underfitting\n",
    "Overfitting: Means that our model makes not accurate predictions. Normally it means the train error is small but the test error is large.\n",
    "\n",
    "Underfitting: This means that our model makes accurate but incorrect predictions. Here the train and test error are both large."
   ]
  },
  {
   "cell_type": "code",
   "execution_count": 29,
   "metadata": {},
   "outputs": [
    {
     "name": "stdout",
     "output_type": "stream",
     "text": [
      "The train set accuracy is 0.7865168539325843\n",
      "The test set accuracy is 0.8021015761821366\n"
     ]
    }
   ],
   "source": [
    "## See what the train and set set accuracy is\n",
    "y_pred_train = clf_gini.predict(X_train)\n",
    "\n",
    "train_accuracy = accuracy_score(Y_train, y_pred_train)\n",
    "\n",
    "print(f\"The train set accuracy is {train_accuracy}\")\n",
    "print(f\"The test set accuracy is {test_accuracy}\")\n",
    "\n",
    "\n",
    "#From the accuracy of both the train and test set we can see that neither overfitting\n",
    "# or underfitting exists"
   ]
  },
  {
   "cell_type": "markdown",
   "metadata": {},
   "source": [
    "## Vizualize the Decision Tree \n",
    "We can use the sklearn tree package to vizualize how the algorithm makes it decisions on where to go."
   ]
  },
  {
   "cell_type": "code",
   "execution_count": 30,
   "metadata": {},
   "outputs": [
    {
     "data": {
      "text/plain": [
       "[Text(0.3333333333333333, 0.875, 'X[5] <= 1.5\\ngini = 0.455\\nsamples = 1157\\nvalue = [813, 255, 40, 49]'),\n",
       " Text(0.16666666666666666, 0.625, 'gini = 0.0\\nsamples = 386\\nvalue = [386, 0, 0, 0]'),\n",
       " Text(0.5, 0.625, 'X[3] <= 1.5\\ngini = 0.577\\nsamples = 771\\nvalue = [427, 255, 40, 49]'),\n",
       " Text(0.3333333333333333, 0.375, 'gini = 0.0\\nsamples = 246\\nvalue = [246, 0, 0, 0]'),\n",
       " Text(0.6666666666666666, 0.375, 'X[0] <= 2.5\\ngini = 0.631\\nsamples = 525\\nvalue = [181, 255, 40, 49]'),\n",
       " Text(0.5, 0.125, 'gini = 0.496\\nsamples = 271\\nvalue = [147, 124, 0, 0]'),\n",
       " Text(0.8333333333333334, 0.125, 'gini = 0.654\\nsamples = 254\\nvalue = [34, 131, 40, 49]')]"
      ]
     },
     "execution_count": 30,
     "metadata": {},
     "output_type": "execute_result"
    },
    {
     "data": {
      "image/png": "[encoded data removed]",
      "text/plain": [
       "<Figure size 432x288 with 1 Axes>"
      ]
     },
     "metadata": {
      "needs_background": "light"
     },
     "output_type": "display_data"
    }
   ],
   "source": [
    "\n",
    "tree.plot_tree(clf_gini.fit(X_train, Y_train))\n",
    " "
   ]
  },
  {
   "cell_type": "markdown",
   "metadata": {},
   "source": [
    "## Decision Tree Using Entropy"
   ]
  },
  {
   "cell_type": "code",
   "execution_count": 31,
   "metadata": {},
   "outputs": [
    {
     "data": {
      "text/html": [
       "<style>#sk-container-id-3 {color: black;background-color: white;}#sk-container-id-3 pre{padding: 0;}#sk-container-id-3 div.sk-toggleable {background-color: white;}#sk-container-id-3 label.sk-toggleable__label {cursor: pointer;display: block;width: 100%;margin-bottom: 0;padding: 0.3em;box-sizing: border-box;text-align: center;}#sk-container-id-3 label.sk-toggleable__label-arrow:before {content: \"▸\";float: left;margin-right: 0.25em;color: #696969;}#sk-container-id-3 label.sk-toggleable__label-arrow:hover:before {color: black;}#sk-container-id-3 div.sk-estimator:hover label.sk-toggleable__label-arrow:before {color: black;}#sk-container-id-3 div.sk-toggleable__content {max-height: 0;max-width: 0;overflow: hidden;text-align: left;background-color: #f0f8ff;}#sk-container-id-3 div.sk-toggleable__content pre {margin: 0.2em;color: black;border-radius: 0.25em;background-color: #f0f8ff;}#sk-container-id-3 input.sk-toggleable__control:checked~div.sk-toggleable__content {max-height: 200px;max-width: 100%;overflow: auto;}#sk-container-id-3 input.sk-toggleable__control:checked~label.sk-toggleable__label-arrow:before {content: \"▾\";}#sk-container-id-3 div.sk-estimator input.sk-toggleable__control:checked~label.sk-toggleable__label {background-color: #d4ebff;}#sk-container-id-3 div.sk-label input.sk-toggleable__control:checked~label.sk-toggleable__label {background-color: #d4ebff;}#sk-container-id-3 input.sk-hidden--visually {border: 0;clip: rect(1px 1px 1px 1px);clip: rect(1px, 1px, 1px, 1px);height: 1px;margin: -1px;overflow: hidden;padding: 0;position: absolute;width: 1px;}#sk-container-id-3 div.sk-estimator {font-family: monospace;background-color: #f0f8ff;border: 1px dotted black;border-radius: 0.25em;box-sizing: border-box;margin-bottom: 0.5em;}#sk-container-id-3 div.sk-estimator:hover {background-color: #d4ebff;}#sk-container-id-3 div.sk-parallel-item::after {content: \"\";width: 100%;border-bottom: 1px solid gray;flex-grow: 1;}#sk-container-id-3 div.sk-label:hover label.sk-toggleable__label {background-color: #d4ebff;}#sk-container-id-3 div.sk-serial::before {content: \"\";position: absolute;border-left: 1px solid gray;box-sizing: border-box;top: 0;bottom: 0;left: 50%;z-index: 0;}#sk-container-id-3 div.sk-serial {display: flex;flex-direction: column;align-items: center;background-color: white;padding-right: 0.2em;padding-left: 0.2em;position: relative;}#sk-container-id-3 div.sk-item {position: relative;z-index: 1;}#sk-container-id-3 div.sk-parallel {display: flex;align-items: stretch;justify-content: center;background-color: white;position: relative;}#sk-container-id-3 div.sk-item::before, #sk-container-id-3 div.sk-parallel-item::before {content: \"\";position: absolute;border-left: 1px solid gray;box-sizing: border-box;top: 0;bottom: 0;left: 50%;z-index: -1;}#sk-container-id-3 div.sk-parallel-item {display: flex;flex-direction: column;z-index: 1;position: relative;background-color: white;}#sk-container-id-3 div.sk-parallel-item:first-child::after {align-self: flex-end;width: 50%;}#sk-container-id-3 div.sk-parallel-item:last-child::after {align-self: flex-start;width: 50%;}#sk-container-id-3 div.sk-parallel-item:only-child::after {width: 0;}#sk-container-id-3 div.sk-dashed-wrapped {border: 1px dashed gray;margin: 0 0.4em 0.5em 0.4em;box-sizing: border-box;padding-bottom: 0.4em;background-color: white;}#sk-container-id-3 div.sk-label label {font-family: monospace;font-weight: bold;display: inline-block;line-height: 1.2em;}#sk-container-id-3 div.sk-label-container {text-align: center;}#sk-container-id-3 div.sk-container {/* jupyter's `normalize.less` sets `[hidden] { display: none; }` but bootstrap.min.css set `[hidden] { display: none !important; }` so we also need the `!important` here to be able to override the default hidden behavior on the sphinx rendered scikit-learn.org. See: https://github.com/scikit-learn/scikit-learn/issues/21755 */display: inline-block !important;position: relative;}#sk-container-id-3 div.sk-text-repr-fallback {display: none;}</style><div id=\"sk-container-id-3\" class=\"sk-top-container\"><div class=\"sk-text-repr-fallback\"><pre>DecisionTreeClassifier(criterion=&#x27;entropy&#x27;, max_depth=3, random_state=0)</pre><b>In a Jupyter environment, please rerun this cell to show the HTML representation or trust the notebook. <br />On GitHub, the HTML representation is unable to render, please try loading this page with nbviewer.org.</b></div><div class=\"sk-container\" hidden><div class=\"sk-item\"><div class=\"sk-estimator sk-toggleable\"><input class=\"sk-toggleable__control sk-hidden--visually\" id=\"sk-estimator-id-3\" type=\"checkbox\" checked><label for=\"sk-estimator-id-3\" class=\"sk-toggleable__label sk-toggleable__label-arrow\">DecisionTreeClassifier</label><div class=\"sk-toggleable__content\"><pre>DecisionTreeClassifier(criterion=&#x27;entropy&#x27;, max_depth=3, random_state=0)</pre></div></div></div></div></div>"
      ],
      "text/plain": [
       "DecisionTreeClassifier(criterion='entropy', max_depth=3, random_state=0)"
      ]
     },
     "execution_count": 31,
     "metadata": {},
     "output_type": "execute_result"
    }
   ],
   "source": [
    "## Do it the same thing again but this time use Entropy\n",
    "clf_entropy = DecisionTreeClassifier(criterion='entropy', max_depth = 3, random_state=0)\n",
    "\n",
    "\n",
    "clf_entropy.fit(X_train, Y_train)\n"
   ]
  },
  {
   "cell_type": "code",
   "execution_count": 32,
   "metadata": {},
   "outputs": [
    {
     "name": "stdout",
     "output_type": "stream",
     "text": [
      "The accuracy of the entropy score is 0.8021015761821366\n"
     ]
    }
   ],
   "source": [
    "## predict the test set results\n",
    "y_pred_entropy = clf_entropy.predict(X_test)\n",
    "\n",
    "entropy_accuracy = accuracy_score(Y_test, y_pred_entropy)\n",
    "\n",
    "print(f\"The accuracy of the entropy score is {entropy_accuracy}\")\n",
    "\n",
    "#As we can see the accuracy of the score is the same as from above\n"
   ]
  },
  {
   "cell_type": "code",
   "execution_count": 33,
   "metadata": {},
   "outputs": [
    {
     "name": "stdout",
     "output_type": "stream",
     "text": [
      "The train set accuracy is 0.7865168539325843\n",
      "The test set accuracy is 0.8021015761821366\n"
     ]
    }
   ],
   "source": [
    "## Check for over and underfitting\n",
    "y_pred_train = clf_entropy.predict(X_train)\n",
    "\n",
    "train_accuracy = accuracy_score(Y_train, y_pred_train)\n",
    "\n",
    "print(f\"The train set accuracy is {train_accuracy}\")\n",
    "print(f\"The test set accuracy is {test_accuracy}\")\n",
    "\n",
    "# As we can see it is the same as before so it does not exist\n"
   ]
  },
  {
   "cell_type": "markdown",
   "metadata": {},
   "source": [
    "## Vizualize Entropy Decision Tree\n",
    "We can see that both the entropy and Gini models used the same decisions to get to the final answer."
   ]
  },
  {
   "cell_type": "code",
   "execution_count": 14,
   "metadata": {},
   "outputs": [
    {
     "data": {
      "text/plain": [
       "[Text(0.3333333333333333, 0.875, 'X[5] <= 1.5\\ngini = 0.455\\nsamples = 1157\\nvalue = [813, 255, 40, 49]'),\n",
       " Text(0.16666666666666666, 0.625, 'gini = 0.0\\nsamples = 386\\nvalue = [386, 0, 0, 0]'),\n",
       " Text(0.5, 0.625, 'X[3] <= 1.5\\ngini = 0.577\\nsamples = 771\\nvalue = [427, 255, 40, 49]'),\n",
       " Text(0.3333333333333333, 0.375, 'gini = 0.0\\nsamples = 246\\nvalue = [246, 0, 0, 0]'),\n",
       " Text(0.6666666666666666, 0.375, 'X[0] <= 2.5\\ngini = 0.631\\nsamples = 525\\nvalue = [181, 255, 40, 49]'),\n",
       " Text(0.5, 0.125, 'gini = 0.496\\nsamples = 271\\nvalue = [147, 124, 0, 0]'),\n",
       " Text(0.8333333333333334, 0.125, 'gini = 0.654\\nsamples = 254\\nvalue = [34, 131, 40, 49]')]"
      ]
     },
     "execution_count": 14,
     "metadata": {},
     "output_type": "execute_result"
    },
    {
     "data": {
      "image/png": "[encoded data removed]",
      "text/plain": [
       "<Figure size 432x288 with 1 Axes>"
      ]
     },
     "metadata": {
      "needs_background": "light"
     },
     "output_type": "display_data"
    }
   ],
   "source": [
    "tree.plot_tree(clf_gini.fit(X_train, Y_train))"
   ]
  },
  {
   "cell_type": "markdown",
   "metadata": {},
   "source": [
    "## Conclusion Decision Tree Algorithm\n",
    "In Conclusion the decision tree algorithm using the crerion of the gini index and entropy does a good job of predicting the safety of a car with an 80% accuracy. In both the gini index and the entropy we get that the training and testing datasets both showed us the same accuracy. We can say that this happens because of such a small dataset."
   ]
  },
  {
   "cell_type": "markdown",
   "metadata": {},
   "source": [
    "# Implementation of KNN algorithm\n",
    "For the Final Project I wanted to try and run two algorithms. The second of these algorithms is the K Nearest Neighbor algorithm. We can use the K Nearest Algorithm to see where different vehicles are being clusted together based on there safety. The first thing that we need to do is find the optimal number of K. First we will just choose a random value for K, then we will loop through multiple numbers and see the accuracy for what the optimal K will be."
   ]
  },
  {
   "cell_type": "code",
   "execution_count": 47,
   "metadata": {},
   "outputs": [
    {
     "name": "stdout",
     "output_type": "stream",
     "text": [
      "Accuracy of the Model where k=5 is 0.8966725043782837\n"
     ]
    }
   ],
   "source": [
    "# We should be able to use the same test set as before and begin working the algorithm\n",
    "\n",
    "# X_train, Y_train, X_test, Y_test\n",
    "## We can determine the best K value by giving it a certain number of values in an array\n",
    "# then seeing the accuracy of the test.\n",
    "\n",
    "# K value = 5\n",
    "k = 5\n",
    "\n",
    "model = KNeighborsClassifier(n_neighbors=k).fit(X_train, Y_train)\n",
    "\n",
    "pred_y = model.predict(X_test)\n",
    "\n",
    "train_accuracy = accuracy_score(Y_test, pred_y)\n",
    "\n",
    "print(\"Accuracy of the Model where k=5 is\", train_accuracy)\n",
    "\n",
    "# So we see that with a K value = 5 we get an accuracy of 92% which is really good.\n",
    "\n",
    "# We can still see what other K vlaues would give us."
   ]
  },
  {
   "cell_type": "code",
   "execution_count": 46,
   "metadata": {},
   "outputs": [
    {
     "name": "stdout",
     "output_type": "stream",
     "text": [
      "The optimzed K value for the model is 6\n",
      "The High accuracy of the model is at 0.9299474605954466\n"
     ]
    },
    {
     "data": {
      "image/png": "[encoded data removed]",
      "text/plain": [
       "<Figure size 864x432 with 1 Axes>"
      ]
     },
     "metadata": {
      "needs_background": "light"
     },
     "output_type": "display_data"
    }
   ],
   "source": [
    "# Plot the accuracy of different K values\n",
    "\n",
    "acc = []\n",
    "\n",
    "#Check what the best K value would be from 1 - 45\n",
    "for k in range(1, 45):\n",
    "    model = KNeighborsClassifier(n_neighbors=k).fit(X_train, Y_train)\n",
    "    m = model.predict(X_test)\n",
    "    acc.append(accuracy_score(Y_test, m))\n",
    "    \n",
    "plt.figure(figsize=(12, 6))\n",
    "plt.plot(range(1, 45), acc, color='red', \n",
    "         linestyle='dashed', marker='o',\n",
    "         markerfacecolor='blue', markersize=10)\n",
    "         \n",
    "plt.title('Accuracy vs Optimzed K value')\n",
    "plt.xlabel('K Value')\n",
    "plt.ylabel('Accuracy Percentage')\n",
    "\n",
    "#print the index of the highest value in accuracy and that will give us the optimzed K value\n",
    "print(f\"The optimzed K value for the model is {acc.index(max(acc))}\")\n",
    "print(f\"The High accuracy of the model is at {max(acc)}\")\n"
   ]
  },
  {
   "cell_type": "markdown",
   "metadata": {},
   "source": [
    "## Accuracy and Optimzed K\n",
    "So from running the K value for various different numbers of K we are able to get that the best value for K is 6 with an accuracy of around 92%. So our intial guess of using the K value of 5 was a good choice for K."
   ]
  },
  {
   "cell_type": "markdown",
   "metadata": {},
   "source": [
    "## Conclusion of KNN Algorithm\n",
    "Using the KNN algorithm we are able to classify different cars and there safety based off of certain characteristics. When running the algorithm we saw that the optimzed value of K is 6 which means it classifies it based off of the 6 closest vlaues to itself. We were able to choose K by graphing the values of the accuracy based on K and this gave us the best possible K value. The accuracy of the model stands around 92$, so we are able to group a car safety based on certain characteristics 92% of the time. The reason for such a high accuracy on all of the different K values we could use would possible be because we are using such a small dataset to run the algorithm. Also upon reading some different articles about the KNN algorithm the way we found the K value is not normally how we find it in the industry, but we are able to find it this way because we are using a smaller dataset. In conlusion these were both very fun algorithms to run and I learned a lot more mathamtical principles in developing these two algorithms."
   ]
  },
  {
   "cell_type": "markdown",
   "metadata": {},
   "source": [
    "## References\n",
    "https://www.kaggle.com/datasets/elikplim/car-evaluation-data-set\n",
    "https://archive.ics.uci.edu/ml/datasets/car+evaluation\n",
    "https://www.kdnuggets.com/2020/01/decision-tree-algorithm-explained.html\n",
    "https://www.analyticsvidhya.com/blog/2021/08/decision-tree-algorithm/\n",
    "https://scikit-learn.org/stable/modules/tree.html\n",
    "https://realpython.com/knn-python/\n",
    "https://www.geeksforgeeks.org/k-nearest-neighbor-algorithm-in-python/\n",
    "https://machinelearningmastery.com/tutorial-to-implement-k-nearest-neighbors-in-python-from-scratch/ "
   ]
  }
 ],
 "metadata": {
  "kernelspec": {
   "display_name": "Python 3.9.13 64-bit (microsoft store)",
   "language": "python",
   "name": "python3"
  },
  "language_info": {
   "codemirror_mode": {
    "name": "ipython",
    "version": 3
   },
   "file_extension": ".py",
   "mimetype": "text/x-python",
   "name": "python",
   "nbconvert_exporter": "python",
   "pygments_lexer": "ipython3",
   "version": "3.9.13"
  },
  "orig_nbformat": 4,
  "vscode": {
   "interpreter": {
    "hash": "b1fdd53aae8e985e4ca4df7333422f47312adb722d7d3a5995f478aea7ef5695"
   }
  }
 },
 "nbformat": 4,
 "nbformat_minor": 2
}
